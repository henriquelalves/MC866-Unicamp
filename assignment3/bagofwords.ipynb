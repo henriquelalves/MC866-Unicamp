{
 "cells": [
  {
   "cell_type": "code",
   "execution_count": 56,
   "metadata": {},
   "outputs": [],
   "source": [
    "import pandas as pd\n",
    "import numpy as np\n",
    "from scipy.sparse import csr_matrix\n",
    "import operator\n",
    "from sklearn import cluster\n",
    "import matplotlib.pyplot as plt\n",
    "import math\n",
    "from wordcloud import WordCloud"
   ]
  },
  {
   "cell_type": "code",
   "execution_count": 57,
   "metadata": {},
   "outputs": [],
   "source": [
    "df = pd.read_csv('news_headlines.csv')\n",
    "uw_df = pd.read_csv('useless_words.csv')"
   ]
  },
  {
   "cell_type": "code",
   "execution_count": 58,
   "metadata": {},
   "outputs": [
    {
     "name": "stdout",
     "output_type": "stream",
     "text": [
      "1000001\n",
      "66320\n"
     ]
    }
   ],
   "source": [
    "print(len(df))\n",
    "df = df[(df['publish_date'])//10000 == 2005]\n",
    "print(len(df))"
   ]
  },
  {
   "cell_type": "code",
   "execution_count": 59,
   "metadata": {},
   "outputs": [],
   "source": [
    "def represents_number(s):\n",
    "    for c in '0123456789':\n",
    "        if s[0] == c:\n",
    "            return True\n",
    "    return False\n",
    "    '''try:\n",
    "        float(s)\n",
    "        return True\n",
    "    except ValueError:\n",
    "        return False'''\n",
    "\n",
    "def convert_word(s):\n",
    "    # take out useless characters\n",
    "    s = s.translate({ord(c): None for c in '!@#:;\\'\\\"*)([]{}%.,&'})\n",
    "    # plural\n",
    "    if len(s) > 0 and s[len(s)-1] == 's':\n",
    "        s = s[:-1]\n",
    "    return s"
   ]
  },
  {
   "cell_type": "code",
   "execution_count": 60,
   "metadata": {},
   "outputs": [
    {
     "name": "stdout",
     "output_type": "stream",
     "text": [
      "0 6632 13264 19896 26528 33160 39792 46424 53056 59688 "
     ]
    }
   ],
   "source": [
    "useless_words = set(uw_df.useless_words.values.tolist())\n",
    "\n",
    "headlines = []\n",
    "\n",
    "bag_of_words = {}\n",
    "for i, headline in enumerate(df.headline_text):\n",
    "    if i%(len(df.headline_text)//10) == 0:\n",
    "        print(i,end=' ')\n",
    "    if len(headlines)==0 or len(headlines[-1])!=0:\n",
    "        headlines.append([])\n",
    "    for word in headline.split(' '):\n",
    "        word = convert_word(word)\n",
    "        if (len(word) == 0):\n",
    "            continue\n",
    "        # useless words\n",
    "        if (word in useless_words):\n",
    "            continue\n",
    "        # money\n",
    "        if (word[0] == '$'):\n",
    "            continue\n",
    "        # number\n",
    "        if (represents_number(word)):\n",
    "            continue\n",
    "        \n",
    "        if (word in bag_of_words):\n",
    "            bag_of_words[word] += 1\n",
    "        else:\n",
    "            bag_of_words[word] = 1\n",
    "            \n",
    "        if (word not in headlines[-1]):\n",
    "            headlines[-1].append(word)\n",
    "        #print(headlines)\n"
   ]
  },
  {
   "cell_type": "code",
   "execution_count": 61,
   "metadata": {},
   "outputs": [
    {
     "name": "stdout",
     "output_type": "stream",
     "text": [
      "16137\n"
     ]
    }
   ],
   "source": [
    "print(len(bag_of_words))"
   ]
  },
  {
   "cell_type": "code",
   "execution_count": 62,
   "metadata": {},
   "outputs": [
    {
     "name": "stdout",
     "output_type": "stream",
     "text": [
      "[('using', 34), ('oval', 34), ('sport', 34), ('dive', 34), ('pest', 34), ('venu', 34), ('marketing', 34), ('livestock', 34), ('duck', 34), ('sunshine', 34), ('self', 34), ('lodge', 34), ('plot', 34), ('blackout', 34), ('done', 34), ('mull', 34), ('pga', 34), ('turkey', 34), ('unveiled', 34), ('calm', 34), ('adjourned', 34), ('restaurant', 34), ('website', 34), ('johnson', 34), ('snowy', 34), ('golden', 34), ('sorenstam', 34), ('co', 34), ('webb', 34), ('hiddink', 34), ('bullying', 34), ('inflation', 34), ('expecting', 34), ('advocate', 34), ('freedom', 34), ('cricketer', 34), ('speculation', 34), ('rush', 34), ('bandit', 34), ('medal', 34), ('employer', 34), ('cruelty', 34), ('cool', 34), ('surplu', 34), ('disabled', 34), ('position', 34), ('priority', 34), ('try', 34), ('hammer', 34), ('bite', 34), ('earth', 34), ('dismissal', 34), ('dutch', 34), ('let', 34), ('unrest', 34), ('propose', 34), ('donor', 34), ('today', 34), ('declared', 34), ('roadwork', 34), ('wound', 34), ('ireland', 34), ('used', 35), ('desalination', 35), ('deportation', 35), ('electricity', 35), ('milan', 35), ('tower', 35), ('application', 35), ('arm', 35), ('ferguson', 35), ('minor', 35), ('surprised', 35), ('own', 35), ('flat', 35), ('attract', 35), ('contractor', 35), ('korp', 35), ('irrigator', 35), ('rider', 35), ('me', 35), ('guarantee', 35), ('pollution', 35), ('bell', 35), ('include', 35), ('handling', 35), ('retain', 35), ('betfair', 35), ('skin', 35), ('alternative', 35), ('selection', 35), ('cooper', 35), ('reflect', 35), ('armed', 35), ('fast', 35), ('mar', 35), ('bishop', 35), ('recall', 35), ('contact', 35), ('playing', 35), ('chappell', 35), ('mcg', 35), ('premiership', 35), ('confirmed', 35), ('zarqawi', 35), ('argentina', 35), ('society', 35), ('clark', 35), ('replacement', 35), ('basin', 35), ('vet', 35), ('account', 35), ('partnership', 35), ('les', 35), ('mexico', 35), ('gregan', 35), ('fake', 36), ('sun', 36), ('citizenship', 36), ('appoint', 36), ('marriage', 36), ('dream', 36), ('fisherman', 36), ('mary', 36), ('explain', 36), ('longer', 36), ('guide', 36), ('bar', 36), ('hiv', 36), ('breaking', 36), ('mooted', 36), ('rooney', 36), ('geraldton', 36), ('rabbitoh', 36), ('cole', 36), ('plantation', 36), ('terminal', 36), ('ownership', 36), ('ordeal', 36), ('making', 36), ('wale', 36), ('tank', 36), ('tuna', 36), ('saving', 36), ('harvey', 36), ('jame', 36), ('el', 36), ('diplomat', 36), ('recover', 36), ('cleric', 36), ('affected', 36), ('following', 36), ('scrap', 36), ('trust', 36), ('cultural', 36), ('kashmir', 36), ('develop', 36), ('warming', 36), ('uruguay', 36), ('snap', 36), ('prepared', 36), ('meatwork', 36), ('hopman', 36), ('kidnapped', 36), ('settlement', 36), ('clijster', 36), ('springborg', 36), ('labour', 36), ('taking', 36), ('leg', 36), ('steady', 36), ('failed', 36), ('csiro', 36), ('just', 37), ('moved', 37), ('arson', 37), ('pick', 37), ('traditional', 37), ('era', 37), ('investment', 37), ('malaysia', 37), ('trapped', 37), ('refinery', 37), ('pres', 37), ('document', 37), ('invasion', 37), ('gap', 37), ('stun', 37), ('false', 37), ('smuggling', 37), ('pill', 37), ('flying', 37), ('grandstand', 37), ('heroin', 37), ('consultation', 37), ('model', 37), ('nathan', 37), ('looming', 37), ('meat', 37), ('special', 37), ('targeted', 37), ('backing', 37), ('label', 37), ('split', 37), ('desert', 37), ('prospect', 37), ('settle', 37), ('lobster', 37), ('axe', 37), ('chairman', 37), ('bat', 37), ('paid', 37), ('age', 37), ('milk', 37), ('around', 37), ('reduction', 37), ('pre', 37), ('alive', 38), ('bega', 38), ('granted', 38), ('brain', 38), ('employee', 38), ('fever', 38), ('lease', 38), ('murderer', 38), ('backpacker', 38), ('partie', 38), ('finance', 38), ('drown', 38), ('sent', 38), ('retail', 38), ('pedestrian', 38), ('swimming', 38), ('retire', 38), ('tamworth', 38), ('outlook', 38), ('sniffing', 38), ('destroy', 38), ('potential', 38), ('gilchrist', 38), ('sailor', 38), ('derby', 38), ('spin', 38), ('offence', 38), ('bow', 38), ('voting', 38), ('motorist', 39), ('clarke', 39), ('responsibility', 39), ('turtle', 39), ('feeling', 39), ('tri', 39), ('permit', 39), ('bennett', 39), ('charle', 39), ('mallee', 39), ('mcewen', 39), ('spoke', 39), ('championship', 39), ('elder', 39), ('birney', 39), ('ganguly', 39), ('ticket', 39), ('mas', 39), ('daughter', 39), ('attacked', 39), ('murdoch', 39), ('flintoff', 39), ('jobles', 39), ('greater', 39), ('parking', 39), ('korean', 39), ('bigger', 39), ('seeker', 39), ('triple', 39), ('upbeat', 39), ('childcare', 39), ('sick', 39), ('negotiation', 39), ('quiet', 39), ('bashir', 39), ('commitment', 39), ('laid', 39), ('bounce', 40), ('bear', 40), ('among', 40), ('twin', 40), ('wollongong', 40), ('wicket', 40), ('burning', 40), ('expand', 40), ('gladstone', 40), ('statu', 40), ('alarm', 40), ('indie', 40), ('english', 40), ('pari', 40), ('facility', 40), ('campbell', 40), ('flock', 40), ('removal', 40), ('ski', 40), ('matche', 40), ('sanction', 40), ('thieve', 40), ('taken', 40), ('insurgent', 40), ('busy', 40), ('injure', 40), ('knife', 40), ('ranking', 40), ('lost', 40), ('recycling', 40), ('mineral', 40), ('non', 40), ('replace', 40), ('europe', 40), ('doesnt', 40), ('rapist', 40), ('listing', 40), ('safin', 40), ('solution', 40), ('opener', 40), ('cold', 40), ('cia', 40), ('sentenced', 40), ('unfair', 40), ('ingrid', 40), ('saudi', 40), ('jetstar', 40), ('caught', 40), ('sudan', 41), ('politic', 41), ('shut', 41), ('sharapova', 41), ('fit', 41), ('showdown', 41), ('epa', 41), ('lebanon', 41), ('egypt', 41), ('bunbury', 41), ('bag', 41), ('pokie', 41), ('caravan', 41), ('between', 41), ('mountain', 41), ('mcgee', 41), ('tafe', 41), ('fly', 41), ('hang', 41), ('promote', 41), ('catholic', 41), ('store', 41), ('deployment', 41), ('dust', 41), ('crossing', 41), ('hackett', 41), ('horse', 41), ('voter', 41), ('spy', 41), ('fresh', 41), ('lockyer', 41), ('gear', 41), ('manslaughter', 41), ('doping', 41), ('hospitalised', 41), ('auction', 41), ('inmate', 41), ('hussey', 41), ('elected', 41), ('medicare', 42), ('agency', 42), ('other', 42), ('grip', 42), ('van', 42), ('count', 42), ('passe', 42), ('rare', 42), ('declare', 42), ('investigator', 42), ('apology', 42), ('spirit', 42), ('insurance', 42), ('rba', 42), ('single', 42), ('penalty', 42), ('treaty', 42), ('queen', 42), ('viru', 42), ('nelson', 42), ('gunn', 42), ('civic', 42), ('ord', 42), ('exchange', 42), ('hardie', 42), ('rspca', 42), ('michael', 42), ('execution', 42), ('businessman', 42), ('environmental', 42), ('sub', 42), ('environment', 42), ('recognise', 42), ('conservation', 42), ('sack', 42), ('golf', 42), ('damaged', 42), ('canadian', 42), ('henry', 43), ('shed', 43), ('spotlight', 43), ('evacuated', 43), ('scam', 43), ('falling', 43), ('detained', 43), ('criminal', 43), ('queensland', 43), ('specialist', 43), ('raider', 43), ('panel', 43), ('actu', 43), ('quizzed', 43), ('gulf', 43), ('custom', 43), ('taiwan', 43), ('clas', 43), ('fair', 43), ('gain', 43), ('ore', 43), ('sexual', 43), ('violent', 43), ('icc', 43), ('rival', 43), ('sharon', 43), ('seriou', 43), ('honoured', 43), ('magistrate', 43), ('diver', 44), ('failure', 44), ('cmc', 44), ('total', 44), ('general', 44), ('spread', 44), ('bed', 44), ('zealand', 44), ('pullout', 44), ('rann', 44), ('cairn', 44), ('clearing', 44), ('la', 44), ('york', 44), ('solon', 44), ('conduct', 44), ('airline', 44), ('schoolie', 44), ('freed', 44), ('idea', 44), ('museum', 44), ('voice', 44), ('worry', 44), ('saleyard', 44), ('dragon', 44), ('retailer', 44), ('ride', 44), ('grape', 44), ('surfer', 45), ('extension', 45), ('female', 45), ('juve', 45), ('scott', 45), ('skipper', 45), ('trail', 45), ('renew', 45), ('wake', 45), ('abba', 45), ('dropped', 45), ('sink', 45), ('ethanol', 45), ('radio', 45), ('navy', 45), ('ground', 45), ('roar', 45), ('catch', 45), ('only', 45), ('bust', 45), ('agent', 46), ('smash', 46), ('recognised', 46), ('prevent', 46), ('cannabi', 46), ('afp', 46), ('disappointed', 46), ('nomination', 46), ('outline', 46), ('add', 46), ('cape', 46), ('sir', 46), ('canker', 46), ('gay', 46), ('crown', 46), ('joh', 46), ('suspiciou', 46), ('increased', 46), ('locust', 46), ('due', 46), ('request', 46), ('withdrawal', 46), ('task', 46), ('mid', 47), ('dozen', 47), ('syria', 47), ('toxic', 47), ('credit', 47), ('extended', 47), ('wide', 47), ('awb', 47), ('vaughan', 47), ('shown', 47), ('labelling', 47), ('appointment', 47), ('verdict', 47), ('nrma', 47), ('protea', 47), ('lara', 47), ('grab', 47), ('build', 47), ('flow', 47), ('eel', 47), ('ill', 47), ('side', 47), ('letter', 47), ('quick', 47), ('finding', 47), ('convicted', 47), ('photo', 48), ('wmc', 48), ('communitie', 48), ('enough', 48), ('watchdog', 48), ('focuse', 48), ('electoral', 48), ('habib', 48), ('struggling', 48), ('dont', 48), ('xstrata', 48), ('traffic', 48), ('sight', 48), ('docker', 48), ('growing', 48), ('ring', 48), ('stem', 48), ('brace', 48), ('toward', 48), ('reef', 48), ('tender', 48), ('word', 48), ('sweep', 48), ('running', 48), ('should', 49), ('recommendation', 49), ('drinking', 49), ('consumer', 49), ('pole', 49), ('iranian', 49), ('weapon', 49), ('white', 49), ('dpp', 49), ('defeat', 49), ('offered', 49), ('scandal', 49), ('payment', 49), ('proces', 49), ('hard', 49), ('nadal', 49), ('forestry', 49), ('lennon', 49), ('spanish', 49), ('spring', 49), ('approach', 49), ('glory', 49), ('contamination', 49), ('asylum', 49), ('ferry', 49), ('dolphin', 49), ('gst', 50), ('seal', 50), ('code', 50), ('eyre', 50), ('injurie', 50), ('langer', 50), ('agassi', 50), ('wagga', 50), ('slide', 50), ('boom', 50), ('bodie', 50), ('bashing', 50), ('poor', 50), ('chemical', 50), ('vietnam', 50), ('value', 50), ('centrelink', 50), ('shuttle', 50), ('ton', 50), ('adopt', 50), ('devil', 50), ('breast', 50), ('closed', 50), ('robbery', 50), ('enter', 50), ('senior', 50), ('solomon', 50), ('ponder', 50), ('specie', 50), ('flooding', 51), ('grow', 51), ('tight', 51), ('vaile', 51), ('event', 51), ('who', 51), ('gather', 51), ('rugby', 51), ('prize', 51), ('katrina', 51), ('anniversary', 51), ('mcgrath', 51), ('base', 51), ('left', 51), ('potato', 51), ('iemma', 51), ('celebration', 51), ('without', 51), ('soon', 51), ('companie', 51), ('suffer', 51), ('brother', 52), ('measure', 52), ('origin', 52), ('barca', 52), ('dry', 52), ('darfur', 52), ('surge', 52), ('expect', 52), ('predicted', 52), ('private', 52), ('authority', 52), ('competition', 52), ('offender', 52), ('stranded', 52), ('reache', 52), ('pulp', 52), ('erupt', 52), ('suspension', 52), ('acros', 52), ('mum', 52), ('bathurst', 52), ('deny', 52), ('workplace', 52), ('weed', 52), ('streak', 52), ('supermarket', 52), ('cbd', 52), ('accuse', 53), ('kiwi', 53), ('creek', 53), ('friend', 53), ('shopping', 53), ('economy', 53), ('follow', 53), ('plea', 53), ('climate', 53), ('fruit', 53), ('anderson', 53), ('brumbie', 53), ('snow', 53), ('tweed', 53), ('disaster', 53), ('lack', 53), ('debut', 53), ('illawarra', 53), ('italy', 53), ('wary', 53), ('packer', 53), ('well', 54), ('fed', 54), ('levy', 54), ('attempted', 54), ('score', 54), ('football', 54), ('vsu', 54), ('producer', 54), ('struggle', 54), ('drag', 54), ('deadline', 54), ('nightclub', 54), ('peninsula', 54), ('trouble', 54), ('delayed', 54), ('block', 54), ('rau', 54), ('asx', 54), ('harvest', 54), ('dna', 54), ('appear', 54), ('considered', 54), ('orange', 54), ('activist', 55), ('dairy', 55), ('regulation', 55), ('italian', 55), ('strategy', 55), ('torture', 55), ('harbour', 55), ('foster', 55), ('waratah', 55), ('eight', 55), ('launched', 55), ('behaviour', 55), ('standard', 55), ('maker', 55), ('collision', 55), ('arsenal', 55), ('master', 55), ('treasurer', 55), ('network', 55), ('sector', 56), ('history', 56), ('champ', 56), ('bad', 56), ('import', 56), ('allow', 56), ('logging', 56), ('sacking', 56), ('progres', 56), ('kick', 56), ('forward', 56), ('iron', 56), ('earthquake', 56), ('transfer', 56), ('audit', 57), ('ceo', 57), ('director', 57), ('past', 57), ('march', 57), ('confidence', 57), ('combat', 57), ('do', 57), ('dangerou', 57), ('islamic', 57), ('asian', 57), ('reduce', 57), ('seat', 57), ('veteran', 57), ('jet', 57), ('brazil', 57), ('id', 57), ('construction', 57), ('submission', 57), ('critical', 57), ('lankan', 57), ('bushranger', 57), ('testing', 57), ('solve', 57), ('demon', 57), ('estate', 58), ('slump', 58), ('seen', 58), ('european', 58), ('legislation', 58), ('germany', 58), ('trip', 58), ('custody', 58), ('dubbo', 58), ('ordered', 58), ('repair', 58), ('mishap', 58), ('examine', 58), ('keen', 58), ('dollar', 58), ('fisher', 58), ('heavy', 58), ('advice', 58), ('vaccine', 58), ('looking', 58), ('unhappy', 58), ('door', 59), ('refused', 59), ('clp', 59), ('some', 59), ('pleased', 59), ('ballarat', 59), ('rescued', 59), ('nab', 59), ('resort', 59), ('forced', 59), ('orlean', 59), ('davi', 59), ('wheat', 59), ('small', 59), ('career', 60), ('cover', 60), ('surprise', 60), ('captain', 60), ('walk', 60), ('overhaul', 60), ('worried', 60), ('criticised', 60), ('reserve', 60), ('britain', 60), ('speeding', 60), ('speak', 60), ('brogden', 61), ('comeback', 61), ('shop', 61), ('halt', 61), ('major', 61), ('provide', 61), ('ruddock', 61), ('if', 61), ('kalgoorlie', 61), ('feel', 61), ('cell', 61), ('contest', 61), ('remember', 61), ('politician', 61), ('jury', 61), ('message', 61), ('apologise', 61), ('mount', 61), ('asia', 61), ('deputy', 61), ('mobile', 61), ('victorian', 61), ('opening', 61), ('easter', 61), ('hike', 61), ('angry', 61), ('century', 62), ('fighting', 62), ('truckie', 62), ('charity', 62), ('wall', 62), ('limit', 62), ('fiji', 62), ('banned', 62), ('brown', 62), ('e', 62), ('zone', 62), ('bundaberg', 62), ('survive', 62), ('hamper', 62), ('boycott', 63), ('shock', 63), ('oversea', 63), ('exercise', 63), ('martin', 63), ('sugar', 63), ('annan', 63), ('disability', 63), ('witnesse', 63), ('losse', 63), ('proposed', 63), ('semi', 63), ('baxter', 63), ('fix', 63), ('nasa', 63), ('assurance', 63), ('fourth', 64), ('champion', 64), ('chamber', 64), ('debt', 64), ('virgin', 64), ('earn', 64), ('snub', 64), ('heart', 64), ('patrol', 64), ('john', 64), ('stanhope', 64), ('retirement', 65), ('singapore', 65), ('hall', 65), ('secret', 65), ('grain', 65), ('hayden', 65), ('camp', 65), ('armstrong', 65), ('mildura', 65), ('tip', 65), ('hot', 65), ('unveil', 65), ('bhp', 65), ('course', 65), ('cat', 65), ('cash', 65), ('pilot', 66), ('latest', 66), ('redback', 66), ('abbott', 66), ('taxi', 66), ('exploration', 66), ('justice', 66), ('abduction', 66), ('thai', 66), ('commonwealth', 66), ('draft', 66), ('ambulance', 66), ('most', 66), ('toddler', 66), ('resignation', 67), ('familie', 67), ('abc', 67), ('explosion', 67), ('paper', 67), ('seize', 67), ('bronco', 67), ('refugee', 67), ('accept', 67), ('recovery', 67), ('decide', 67), ('tie', 67), ('manager', 67), ('mourn', 67), ('broome', 67), ('package', 67), ('teenager', 67), ('independent', 67), ('thailand', 68), ('tribunal', 68), ('music', 68), ('heat', 68), ('financial', 68), ('camera', 68), ('operator', 68), ('far', 68), ('date', 68), ('remote', 68), ('accc', 68), ('journalist', 68), ('information', 68), ('brack', 68), ('beef', 68), ('hawk', 68), ('attend', 68), ('member', 68), ('guard', 68), ('blood', 68), ('wool', 69), ('porn', 69), ('visitor', 69), ('german', 69), ('ask', 69), ('albany', 69), ('forum', 69), ('part', 69), ('roo', 69), ('weekend', 70), ('pipeline', 70), ('evacuation', 70), ('late', 70), ('commissioner', 70), ('working', 70), ('night', 70), ('william', 70), ('native', 70), ('production', 70), ('month', 70), ('trio', 70), ('macquarie', 70), ('political', 71), ('agenda', 71), ('tv', 71), ('tribute', 71), ('fishermen', 71), ('aged', 71), ('tougher', 71), ('witnes', 72), ('route', 72), ('cruise', 72), ('leadership', 72), ('card', 72), ('falconio', 72), ('toad', 72), ('donation', 72), ('spill', 72), ('wife', 72), ('fan', 72), ('monitor', 72), ('blair', 72), ('philippine', 72), ('corruption', 72), ('windie', 72), ('terrorist', 72), ('sacked', 72), ('allegation', 73), ('positive', 73), ('resign', 73), ('cyclist', 73), ('academic', 73), ('saint', 73), ('forecast', 73), ('lower', 73), ('counter', 73), ('full', 73), ('g', 73), ('marine', 73), ('rice', 73), ('unlikely', 73), ('elderly', 73), ('possible', 73), ('unit', 73), ('ranger', 73), ('being', 73), ('cricket', 74), ('place', 74), ('alert', 74), ('gp', 74), ('short', 74), ('developer', 74), ('cap', 74), ('raised', 74), ('sue', 74), ('passenger', 74), ('farewell', 74), ('extra', 74), ('answer', 75), ('trading', 75), ('shoot', 75), ('deadly', 75), ('film', 75), ('gang', 75), ('brawl', 75), ('cast', 75), ('pull', 75), ('prove', 75), ('economic', 75), ('buy', 75), ('outback', 75), ('valley', 76), ('racing', 76), ('molik', 76), ('called', 76), ('russia', 76), ('abortion', 76), ('helicopter', 76), ('scare', 76), ('half', 76), ('sheep', 76), ('video', 77), ('federer', 77), ('media', 77), ('made', 77), ('mis', 77), ('send', 77), ('refuse', 77), ('reopen', 77), ('reach', 77), ('winning', 78), ('collapse', 78), ('shake', 78), ('citru', 78), ('grand', 78), ('se', 78), ('compensation', 78), ('deliver', 78), ('committee', 78), ('couple', 78), ('pilbara', 79), ('mackay', 79), ('discovery', 79), ('complete', 79), ('n', 79), ('roll', 79), ('street', 79), ('saddam', 79), ('factory', 79), ('supply', 79), ('outbreak', 79), ('create', 79), ('jump', 79), ('alcohol', 80), ('nrl', 80), ('france', 80), ('visa', 80), ('townsville', 80), ('church', 80), ('wait', 80), ('avoid', 80), ('pool', 80), ('anger', 81), ('licence', 81), ('memorial', 81), ('linked', 81), ('crack', 81), ('travel', 81), ('rising', 81), ('timber', 81), ('property', 82), ('bulldog', 82), ('edge', 82), ('global', 82), ('paedophile', 82), ('people', 82), ('spending', 82), ('hundred', 82), ('succes', 82), ('stolen', 82), ('domestic', 83), ('bangladesh', 83), ('kangaroo', 83), ('net', 83), ('cros', 83), ('royal', 83), ('complaint', 83), ('leak', 83), ('smith', 83), ('next', 83), ('infrastructure', 83), ('conference', 83), ('tunnel', 83), ('suspended', 84), ('must', 84), ('celebrate', 84), ('killing', 84), ('merger', 84), ('whaling', 84), ('lanka', 84), ('forest', 84), ('crow', 84), ('population', 84), ('nguyen', 84), ('bendigo', 85), ('st', 85), ('league', 85), ('protection', 85), ('ruling', 85), ('danger', 85), ('internet', 85), ('incident', 85), ('knight', 85), ('mission', 86), ('qanta', 86), ('energy', 86), ('concerned', 86), ('patel', 86), ('joyce', 86), ('bypas', 86), ('international', 86), ('cattle', 86), ('hopeful', 86), ('ama', 87), ('crashe', 87), ('olympic', 87), ('historic', 87), ('father', 87), ('become', 87), ('volunteer', 87), ('gippsland', 87), ('parliament', 87), ('summit', 87), ('protect', 87), ('survivor', 87), ('mt', 87), ('warne', 87), ('skill', 88), ('muslim', 88), ('qaeda', 88), ('hick', 88), ('point', 88), ('riot', 88), ('gallop', 88), ('operation', 88), ('watch', 88), ('embassy', 88), ('latham', 89), ('blow', 89), ('approval', 89), ('giant', 89), ('slow', 89), ('attempt', 89), ('before', 89), ('field', 90), ('wage', 90), ('college', 90), ('seven', 90), ('great', 90), ('affect', 91), ('smoking', 91), ('policeman', 91), ('little', 91), ('wallabie', 91), ('area', 91), ('burn', 91), ('african', 91), ('restriction', 91), ('spot', 91), ('bridge', 91), ('form', 91), ('needed', 92), ('condemn', 92), ('liverpool', 92), ('hour', 92), ('lee', 92), ('prince', 92), ('industrial', 92), ('stage', 92), ('kimberley', 92), ('dismisse', 92), ('last', 92), ('guantanamo', 92), ('stance', 92), ('happy', 93), ('resource', 93), ('upset', 93), ('check', 93), ('addres', 93), ('eu', 93), ('further', 93), ('money', 93), ('border', 93), ('level', 93), ('fish', 93), ('closer', 94), ('predict', 94), ('waiting', 94), ('another', 94), ('host', 94), ('russian', 94), ('cane', 94), ('sell', 94), ('loom', 94), ('questioned', 94), ('funeral', 95), ('receive', 95), ('safe', 95), ('flag', 95), ('than', 95), ('vanstone', 95), ('space', 96), ('expansion', 96), ('art', 96), ('tough', 96), ('arrive', 96), ('foreign', 96), ('victoria', 96), ('key', 96), ('afghanistan', 96), ('given', 97), ('candidate', 97), ('premier', 97), ('coalition', 97), ('book', 97), ('best', 97), ('crop', 97), ('role', 98), ('wild', 98), ('commission', 98), ('militant', 98), ('approve', 98), ('peace', 98), ('mark', 98), ('hostage', 98), ('surgery', 98), ('come', 99), ('goe', 99), ('tackle', 99), ('closure', 99), ('researcher', 99), ('away', 99), ('palm', 99), ('resume', 99), ('wine', 100), ('cabinet', 100), ('africa', 100), ('son', 100), ('hearing', 100), ('gun', 100), ('young', 100), ('fee', 100), ('tasmania', 100), ('fraud', 101), ('tasmanian', 101), ('swan', 102), ('nation', 102), ('al', 102), ('launch', 102), ('heritage', 102), ('blame', 102), ('holiday', 102), ('hotel', 103), ('higher', 103), ('businesse', 103), ('anzac', 103), ('proposal', 103), ('maintain', 103), ('released', 103), ('gm', 103), ('chase', 104), ('amid', 104), ('serie', 104), ('office', 104), ('region', 104), ('timor', 104), ('christma', 104), ('country', 104), ('detainee', 104), ('northern', 104), ('live', 104), ('slam', 104), ('evidence', 104), ('crowd', 104), ('girl', 105), ('chelsea', 105), ('murray', 105), ('siege', 105), ('mixed', 106), ('disease', 106), ('order', 106), ('hail', 106), ('behind', 107), ('animal', 107), ('terror', 107), ('round', 107), ('bull', 107), ('oppose', 107), ('can', 108), ('agree', 108), ('real', 108), ('tipped', 108), ('hunter', 108), ('extend', 109), ('criticism', 109), ('human', 110), ('los', 110), ('transport', 110), ('chance', 110), ('detail', 110), ('korea', 110), ('phone', 110), ('israeli', 111), ('prisoner', 111), ('senate', 111), ('treatment', 111), ('old', 111), ('crackdown', 111), ('cowboy', 111), ('png', 111), ('inquest', 111), ('ashe', 112), ('tree', 112), ('management', 112), ('wood', 113), ('ship', 113), ('option', 113), ('carr', 113), ('aboriginal', 113), ('re', 113), ('dept', 113), ('launche', 113), ('squad', 113), ('baghdad', 113), ('southern', 113), ('government', 114), ('alice', 114), ('pacific', 114), ('low', 114), ('lake', 114), ('asbesto', 114), ('result', 114), ('suspected', 114), ('lobby', 114), ('warrior', 115), ('chopper', 115), ('ad', 115), ('firefighter', 115), ('facing', 115), ('revamp', 116), ('pair', 116), ('improve', 116), ('bos', 116), ('killer', 116), ('senator', 116), ('long', 116), ('welfare', 116), ('hurt', 116), ('flight', 116), ('jackson', 116), ('praise', 116), ('medical', 116), ('compo', 117), ('speed', 117), ('military', 117), ('likely', 117), ('hi', 118), ('men', 118), ('super', 119), ('socceroo', 119), ('alp', 119), ('japanese', 119), ('newcastle', 119), ('board', 119), ('hurricane', 119), ('rebel', 120), ('await', 121), ('discus', 121), ('french', 121), ('judge', 121), ('whale', 121), ('central', 122), ('response', 122), ('during', 122), ('zimbabwe', 122), ('jone', 122), ('indian', 122), ('baby', 122), ('named', 123), ('shot', 123), ('eagle', 123), ('grant', 124), ('party', 124), ('cyclone', 124), ('tell', 124), ('mill', 124), ('nine', 124), ('blamed', 126), ('agreement', 126), ('town', 126), ('takeover', 126), ('crew', 126), ('acces', 126), ('afghan', 127), ('afl', 127), ('fine', 127), ('escape', 127), ('weather', 127), ('drive', 128), ('growth', 128), ('condition', 128), ('draw', 128), ('croc', 129), ('cleared', 129), ('interview', 129), ('gaza', 129), ('rape', 129), ('petrol', 130), ('pushe', 131), ('player', 131), ('held', 131), ('vow', 132), ('secure', 132), ('coroner', 132), ('authoritie', 132), ('immigration', 133), ('coal', 133), ('parent', 133), ('clear', 133), ('figure', 133), ('ponting', 134), ('ex', 134), ('stabbing', 134), ('front', 134), ('hand', 135), ('worrie', 135), ('theft', 135), ('match', 135), ('hewitt', 135), ('million', 135), ('survey', 136), ('owner', 136), ('early', 136), ('six', 136), ('coach', 137), ('problem', 138), ('beach', 138), ('light', 138), ('quit', 138), ('crisi', 138), ('criticise', 138), ('truck', 138), ('education', 138), ('drink', 139), ('dam', 139), ('israel', 139), ('rethink', 139), ('army', 139), ('city', 139), ('through', 140), ('driving', 140), ('week', 140), ('united', 140), ('mother', 140), ('nurse', 141), ('bring', 141), ('bail', 142), ('policy', 142), ('hobart', 142), ('sri', 142), ('flood', 142), ('mental', 142), ('save', 142), ('better', 143), ('british', 143), ('aim', 143), ('contract', 143), ('five', 143), ('term', 144), ('quake', 144), ('line', 144), ('palestinian', 144), ('rock', 144), ('shark', 145), ('festival', 146), ('yet', 146), ('eye', 146), ('iran', 147), ('canberra', 147), ('pledge', 148), ('confirm', 148), ('downer', 148), ('step', 148), ('cause', 148), ('boat', 149), ('protester', 149), ('reveal', 149), ('research', 150), ('reform', 150), ('post', 150), ('ease', 150), ('brisbane', 150), ('track', 150), ('boy', 151), ('youth', 151), ('federal', 152), ('broken', 152), ('stay', 152), ('red', 152), ('link', 152), ('rescue', 153), ('bay', 154), ('suicide', 154), ('chinese', 154), ('interest', 154), ('raid', 154), ('turn', 155), ('admit', 155), ('planned', 156), ('again', 156), ('uranium', 157), ('export', 157), ('fined', 158), ('drop', 159), ('announce', 159), ('king', 160), ('third', 160), ('sea', 160), ('asked', 160), ('season', 161), ('expert', 161), ('detention', 162), ('injury', 163), ('official', 164), ('building', 164), ('strong', 164), ('wind', 165), ('clean', 165), ('ha', 165), ('increase', 165), ('lion', 166), ('miner', 166), ('control', 166), ('too', 167), ('battle', 167), ('sought', 167), ('scientist', 168), ('benefit', 168), ('uk', 168), ('prepare', 168), ('relief', 169), ('use', 169), ('alleged', 169), ('lift', 169), ('aceh', 169), ('near', 170), ('poll', 170), ('crime', 171), ('list', 171), ('thousand', 171), ('visit', 171), ('stock', 172), ('bomber', 174), ('island', 174), ('training', 174), ('legal', 175), ('dispute', 175), ('sentence', 175), ('india', 175), ('threaten', 175), ('dog', 176), ('women', 176), ('western', 177), ('system', 177), ('defence', 178), ('hunt', 178), ('darwin', 178), ('president', 178), ('double', 179), ('comment', 179), ('ready', 180), ('illegal', 181), ('race', 181), ('break', 181), ('star', 182), ('honour', 182), ('impact', 183), ('planning', 183), ('patient', 184), ('arrest', 185), ('life', 185), ('costello', 185), ('plant', 186), ('free', 186), ('mining', 187), ('waste', 187), ('river', 188), ('plead', 188), ('company', 189), ('train', 189), ('pressure', 190), ('emergency', 190), ('rural', 190), ('damage', 190), ('rail', 191), ('ga', 191), ('officer', 192), ('fail', 192), ('name', 192), ('confident', 193), ('focu', 194), ('councillor', 194), ('raise', 196), ('good', 196), ('meet', 197), ('food', 197), ('shortage', 198), ('uni', 198), ('staff', 199), ('promise', 199), ('doubt', 199), ('dump', 200), ('children', 201), ('suspect', 202), ('investigation', 202), ('game', 203), ('scheme', 203), ('indonesian', 204), ('pope', 205), ('care', 205), ('indonesia', 207), ('clash', 207), ('fishing', 207), ('perth', 207), ('violence', 207), ('corby', 208), ('lawyer', 209), ('victory', 209), ('site', 209), ('housing', 209), ('japan', 210), ('shire', 211), ('blue', 212), ('shooting', 212), ('fall', 212), ('share', 212), ('black', 213), ('rally', 213), ('war', 213), ('bushfire', 213), ('prison', 214), ('number', 215), ('beat', 216), ('risk', 216), ('profit', 217), ('lose', 217), ('close', 218), ('bank', 218), ('trade', 218), ('bill', 218), ('challenge', 218), ('way', 219), ('debate', 219), ('upgrade', 219), ('need', 220), ('bu', 220), ('tourist', 221), ('title', 221), ('project', 221), ('air', 222), ('second', 222), ('program', 223), ('release', 223), ('assault', 224), ('woe', 225), ('east', 226), ('beazley', 226), ('have', 226), ('hill', 226), ('fatal', 226), ('cancer', 227), ('arrested', 227), ('firm', 227), ('london', 228), ('four', 228), ('liberal', 229), ('row', 229), ('issue', 230), ('adelaide', 231), ('club', 233), ('nz', 233), ('soldier', 234), ('remain', 235), ('ahead', 235), ('sign', 235), ('could', 236), ('expected', 236), ('effort', 236), ('tourism', 237), ('award', 238), ('despite', 239), ('vote', 239), ('development', 240), ('told', 240), ('demand', 240), ('right', 241), ('warned', 241), ('bombing', 242), ('pakistan', 243), ('team', 245), ('spark', 246), ('troop', 246), ('tiger', 248), ('body', 248), ('station', 248), ('give', 249), ('start', 249), ('grower', 249), ('run', 250), ('i', 250), ('wont', 253), ('meeting', 253), ('port', 254), ('campaign', 254), ('see', 255), ('nuclear', 255), ('beattie', 256), ('blast', 257), ('abuse', 258), ('strike', 259), ('bush', 259), ('future', 259), ('stop', 259), ('vic', 260), ('farm', 263), ('hear', 267), ('target', 271), ('budget', 273), ('injured', 274), ('plane', 274), ('busines', 274), ('oil', 275), ('bali', 276), ('warning', 276), ('three', 276), ('guilty', 277), ('accident', 278), ('question', 279), ('keep', 280), ('jail', 281), ('delay', 281), ('still', 282), ('tax', 284), ('blaze', 285), ('push', 285), ('un', 287), ('bomb', 288), ('state', 288), ('green', 289), ('teacher', 289), ('cost', 289), ('iraqi', 289), ('melbourne', 290), ('west', 292), ('hold', 293), ('tour', 293), ('aussie', 295), ('big', 297), ('flu', 297), ('leave', 298), ('england', 300), ('airport', 301), ('rule', 303), ('protest', 306), ('stand', 306), ('safety', 306), ('first', 308), ('highlight', 312), ('park', 312), ('howard', 313), ('play', 315), ('go', 316), ('fuel', 316), ('toll', 316), ('investigate', 317), ('local', 318), ('ta', 319), ('regional', 320), ('teen', 321), ('bid', 322), ('decision', 323), ('highway', 324), ('prompt', 325), ('market', 326), ('mine', 328), ('head', 329), ('look', 330), ('north', 331), ('threat', 332), ('time', 332), ('gold', 334), ('terrorism', 335), ('land', 338), ('welcome', 338), ('house', 340), ('appeal', 341), ('bird', 341), ('denie', 341), ('final', 342), ('join', 342), ('jailed', 345), ('family', 348), ('student', 348), ('dead', 349), ('resident', 350), ('drought', 353), ('review', 358), ('mayor', 360), ('anti', 361), ('show', 362), ('community', 363), ('aust', 365), ('election', 365), ('defend', 368), ('action', 369), ('rain', 370), ('china', 370), ('sex', 371), ('force', 371), ('industry', 372), ('top', 372), ('study', 373), ('leader', 376), ('former', 376), ('storm', 377), ('act', 379), ('kill', 384), ('labor', 384), ('put', 384), ('child', 387), ('warn', 388), ('nt', 389), ('hope', 393), ('rate', 394), ('sale', 394), ('pay', 397), ('doctor', 398), ('funding', 398), ('woman', 399), ('begin', 400), ('telstra', 403), ('found', 406), ('chief', 407), ('cup', 410), ('deal', 410), ('search', 411), ('security', 413), ('south', 417), ('move', 418), ('murder', 419), ('offer', 426), ('find', 427), ('want', 428), ('home', 434), ('day', 435), ('job', 444), ('record', 448), ('trial', 449), ('die', 450), ('high', 454), ('lead', 454), ('inquiry', 456), ('make', 460), ('sa', 460), ('return', 461), ('indigenou', 463), ('ban', 463), ('reject', 464), ('end', 465), ('driver', 467), ('accused', 473), ('power', 473), ('year', 476), ('support', 477), ('fight', 483), ('case', 484), ('talk', 486), ('work', 490), ('charged', 491), ('nsw', 493), ('test', 500), ('two', 501), ('centre', 501), ('national', 507), ('open', 508), ('rise', 513), ('price', 516), ('world', 517), ('coast', 517), ('road', 519), ('australian', 524), ('cut', 525), ('concern', 525), ('pm', 527), ('urge', 534), ('farmer', 535), ('aid', 536), ('union', 537), ('victim', 544), ('school', 547), ('public', 559), ('qld', 570), ('consider', 572), ('missing', 576), ('fear', 576), ('sydney', 582), ('opposition', 587), ('probe', 588), ('worker', 590), ('ir', 594), ('australia', 601), ('tsunami', 605), ('continue', 605), ('minister', 616), ('drug', 620), ('hit', 622), ('killed', 624), ('charge', 626), ('wa', 637), ('fund', 638), ('set', 643), ('car', 650), ('down', 656), ('off', 662), ('under', 664), ('no', 665), ('iraq', 669), ('law', 673), ('help', 690), ('may', 701), ('boost', 706), ('service', 706), ('report', 711), ('attack', 712), ('mp', 717), ('hospital', 771), ('take', 773), ('crash', 774), ('health', 789), ('water', 800), ('against', 807), ('face', 838), ('death', 842), ('get', 852), ('be', 866), ('change', 876), ('win', 878), ('group', 898), ('claim', 916), ('seek', 918), ('more', 935), ('court', 955), ('urged', 992), ('fire', 1062), ('back', 1073), ('out', 1181), ('call', 1202), ('u', 1257), ('say', 1473), ('man', 1551), ('council', 1659), ('plan', 1690), ('new', 1987), ('govt', 2406), ('police', 2635)]\n"
     ]
    }
   ],
   "source": [
    "sorted_dict = sorted(bag_of_words.items(), key=operator.itemgetter(1))[-2000:]\n",
    "print(sorted_dict)"
   ]
  },
  {
   "cell_type": "code",
   "execution_count": 63,
   "metadata": {},
   "outputs": [],
   "source": [
    "indexes = {sorted_dict[i][0]:i for i in range(0,len(sorted_dict))}\n",
    "matrix = np.zeros((len(df.headline_text),len(indexes)),dtype=np.uint8)\n",
    "\n",
    "for i in range(0,len(headlines)):\n",
    "    for word in (j for j in headlines[i] if j in indexes):\n",
    "        matrix[i,indexes[word]] = 1 if word in indexes else 0\n",
    "\n"
   ]
  },
  {
   "cell_type": "code",
   "execution_count": 64,
   "metadata": {},
   "outputs": [
    {
     "name": "stdout",
     "output_type": "stream",
     "text": [
      "2\n",
      "3\n",
      "4\n",
      "5\n",
      "6\n",
      "7\n",
      "8\n",
      "9\n",
      "10\n",
      "11\n",
      "12\n",
      "13\n",
      "14\n",
      "15\n",
      "16\n",
      "17\n",
      "18\n",
      "19\n",
      "20\n",
      "21\n",
      "22\n",
      "23\n",
      "24\n",
      "25\n",
      "26\n",
      "27\n",
      "28\n",
      "29\n",
      "30\n",
      "31\n",
      "32\n",
      "33\n",
      "34\n",
      "35\n",
      "36\n",
      "37\n",
      "38\n",
      "39\n",
      "40\n",
      "41\n",
      "42\n",
      "43\n",
      "44\n",
      "45\n",
      "46\n",
      "47\n",
      "48\n",
      "49\n"
     ]
    }
   ],
   "source": [
    "np.random.shuffle(matrix)\n",
    "matrix = matrix[:5000,:]\n",
    "\n",
    "labels = list(range(2,50))\n",
    "inertias = []\n",
    "\n",
    "for i in labels:\n",
    "    print(i)\n",
    "    kmeans = cluster.KMeans(i,verbose = 0)\n",
    "    kmeans.fit(matrix)\n",
    "    inertias.append(kmeans.inertia_)\n"
   ]
  },
  {
   "cell_type": "code",
   "execution_count": 65,
   "metadata": {},
   "outputs": [
    {
     "data": {
      "image/png": "[encoded data removed]",
      "text/plain": [
       "<matplotlib.figure.Figure at 0x7f504d4b2940>"
      ]
     },
     "metadata": {},
     "output_type": "display_data"
    }
   ],
   "source": [
    "plt.plot(list(range(len(inertias))), [math.sqrt(i) for i in inertias])\n",
    "plt.show()"
   ]
  },
  {
   "cell_type": "code",
   "execution_count": 66,
   "metadata": {},
   "outputs": [
    {
     "name": "stdout",
     "output_type": "stream",
     "text": [
      "[20 20 20 ... 20 20 20]\n"
     ]
    }
   ],
   "source": [
    "kmeans = cluster.KMeans(25,verbose = 0)\n",
    "kmeans.fit(matrix)\n",
    "print(kmeans.labels_)"
   ]
  },
  {
   "cell_type": "code",
   "execution_count": 67,
   "metadata": {},
   "outputs": [
    {
     "name": "stdout",
     "output_type": "stream",
     "text": [
      "(25, 2000)\n"
     ]
    }
   ],
   "source": [
    "print(kmeans.cluster_centers_.shape)\n",
    "wordclouds = []\n",
    "for cluster in kmeans.cluster_centers_:\n",
    "    words = \"\"\n",
    "    for i in range(len(cluster)):\n",
    "        words += (sorted_dict[i][0] + ' ') * int(cluster[i]*100)\n",
    "    #print(words)\n",
    "    wordclouds.append(WordCloud(max_font_size=50, collocations=False).generate(words))\n"
   ]
  },
  {
   "cell_type": "code",
   "execution_count": 68,
   "metadata": {},
   "outputs": [],
   "source": [
    "for i in range(len(wordclouds)):\n",
    "    plt.figure(dpi=140)\n",
    "    plt.imshow(wordclouds[i], interpolation=\"bilinear\")\n",
    "    plt.axis(\"off\")\n",
    "    plt.savefig(str(i))\n",
    "    plt.close()"
   ]
  },
  {
   "cell_type": "code",
   "execution_count": null,
   "metadata": {},
   "outputs": [],
   "source": []
  }
 ],
 "metadata": {
  "kernelspec": {
   "display_name": "Python 3",
   "language": "python",
   "name": "python3"
  },
  "language_info": {
   "codemirror_mode": {
    "name": "ipython",
    "version": 3
   },
   "file_extension": ".py",
   "mimetype": "text/x-python",
   "name": "python",
   "nbconvert_exporter": "python",
   "pygments_lexer": "ipython3",
   "version": "3.6.4"
  }
 },
 "nbformat": 4,
 "nbformat_minor": 2
}
