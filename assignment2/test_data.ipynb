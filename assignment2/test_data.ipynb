{
 "cells": [
  {
   "cell_type": "code",
   "execution_count": 194,
   "metadata": {},
   "outputs": [],
   "source": [
    "import skimage\n",
    "import matplotlib.pyplot as plt\n",
    "import numpy as np\n",
    "import pywt\n",
    "import scipy\n",
    "import os\n",
    "\n",
    "from sklearn import linear_model, decomposition, datasets\n",
    "from sklearn.pipeline import Pipeline\n",
    "from sklearn.model_selection import GridSearchCV"
   ]
  },
  {
   "cell_type": "code",
   "execution_count": null,
   "metadata": {},
   "outputs": [],
   "source": [
    "def get_noise_image(image):\n",
    "    ret = np.zeros(image.shape, dtype='uint8')\n",
    "    ret[:,:,0] = skimage.filters.rank.median(image[:,:,0], np.ones((5,5)))\n",
    "    ret[:,:,1] = skimage.filters.rank.median(image[:,:,1], np.ones((5,5)))\n",
    "    ret[:,:,2] = skimage.filters.rank.median(image[:,:,2], np.ones((5,5)))\n",
    "\n",
    "    return image.astype('float64')/255.0 - ret.astype('float64')/255.0"
   ]
  },
  {
   "cell_type": "code",
   "execution_count": null,
   "metadata": {},
   "outputs": [],
   "source": [
    "def extract_features(image):\n",
    "    subimages = []\n",
    "    subimages.append(get_noise_image(image))\n",
    "\n",
    "    coeffs = pywt.dwt2(noise, 'db2')\n",
    "\n",
    "    subimages.append(coeffs[0])\n",
    "    subimages.append(coeffs[1][0])\n",
    "    subimages.append(coeffs[1][1])\n",
    "    subimages.append(coeffs[1][2])\n",
    "\n",
    "    line = []\n",
    "    for im in subimages:\n",
    "        for c in range(3):\n",
    "            nobs, minmax, mean, variance, skewness, kurtosis = scipy.stats.describe(im[:,:,c].ravel())    \n",
    "            line = line + [minmax[0],minmax[1],mean,variance,skewness,kurtosis]\n",
    "    return line"
   ]
  }
 ],
 "metadata": {
  "kernelspec": {
   "display_name": "Python 3",
   "language": "python",
   "name": "python3"
  },
  "language_info": {
   "codemirror_mode": {
    "name": "ipython",
    "version": 3
   },
   "file_extension": ".py",
   "mimetype": "text/x-python",
   "name": "python",
   "nbconvert_exporter": "python",
   "pygments_lexer": "ipython3",
   "version": "3.6.4"
  }
 },
 "nbformat": 4,
 "nbformat_minor": 2
}
