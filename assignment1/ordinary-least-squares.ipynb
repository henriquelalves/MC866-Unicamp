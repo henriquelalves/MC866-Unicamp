{
 "cells": [
  {
   "cell_type": "code",
   "execution_count": 15,
   "metadata": {},
   "outputs": [],
   "source": [
    "import matplotlib.pyplot as plt\n",
    "import numpy as np\n",
    "import csv\n",
    "from sklearn import linear_model\n",
    "from sklearn.metrics import mean_squared_error, r2_score"
   ]
  },
  {
   "cell_type": "code",
   "execution_count": 40,
   "metadata": {},
   "outputs": [],
   "source": [
    "# Extract data\n",
    "data_X_train = []\n",
    "data_X_test = []\n",
    "data_y_train = []\n",
    "data_y_test = []\n",
    "\n",
    "with open('data/train.csv', newline='') as csvfile:\n",
    "    csvfile.readline()\n",
    "    spamreader = csv.reader(csvfile, delimiter=',', quotechar='|')\n",
    "    for row in spamreader:\n",
    "        new_X = []\n",
    "        for i in range(2, 60):\n",
    "            new_X.append(float(row[i]))\n",
    "        data_X_train.append(new_X)\n",
    "        data_y_train.append(float(row[60]))\n",
    "\n",
    "with open('data/test.csv', newline='') as csvfile:\n",
    "    csvfile.readline()\n",
    "    spamreader = csv.reader(csvfile, delimiter=',', quotechar='|')\n",
    "    for row in spamreader:\n",
    "        new_X = []\n",
    "        for i in range(2, 60):\n",
    "            new_X.append(float(row[i]))\n",
    "        data_X_test.append(new_X)\n",
    "\n",
    "with open('data/test_target.csv', newline='') as csvfile:\n",
    "    csvfile.readline()\n",
    "    spamreader = csv.reader(csvfile, delimiter=',', quotechar='|')\n",
    "    for row in spamreader:\n",
    "        data_y_test.append(float(row[0]))"
   ]
  },
  {
   "cell_type": "code",
   "execution_count": 75,
   "metadata": {},
   "outputs": [],
   "source": [
    "regr = linear_model.LinearRegression(normalize=True)"
   ]
  },
  {
   "cell_type": "code",
   "execution_count": 76,
   "metadata": {},
   "outputs": [
    {
     "data": {
      "text/plain": [
       "LinearRegression(copy_X=True, fit_intercept=True, n_jobs=1, normalize=True)"
      ]
     },
     "execution_count": 76,
     "metadata": {},
     "output_type": "execute_result"
    }
   ],
   "source": [
    "regr.fit(data_X_train, data_y_train)"
   ]
  },
  {
   "cell_type": "code",
   "execution_count": 77,
   "metadata": {},
   "outputs": [],
   "source": [
    "data_y_pred = regr.predict(data_X_test)"
   ]
  },
  {
   "cell_type": "code",
   "execution_count": 78,
   "metadata": {},
   "outputs": [
    {
     "name": "stdout",
     "output_type": "stream",
     "text": [
      "Coefficients: \n",
      " [ 6.50066097e+01  3.84846683e-01  4.54345661e+03 -1.96745353e+03\n",
      " -1.82659357e+03  1.87245491e+01 -4.44222522e+01  1.64656889e+01\n",
      "  1.49387722e+01 -6.69022225e+02  7.05959008e+01 -8.62552237e+02\n",
      " -8.99385873e+02 -4.44724463e+02 -3.79610140e+02 -4.66017442e+02\n",
      " -3.73336563e+02  2.92636747e+00  4.68045368e-02  2.08066479e-02\n",
      " -1.38150422e-03 -2.06134480e-04 -8.58659333e-04 -3.91357415e-01\n",
      " -2.07150046e-01  1.77972860e+00  2.25342630e-02 -2.93608697e-03\n",
      "  1.02017606e-02  7.71708669e+15  7.71708669e+15  7.71708669e+15\n",
      "  7.71708669e+15  7.71708669e+15 -2.94869466e+16 -2.94869466e+16\n",
      "  3.72040333e+16 -5.82681025e+04 -5.90810492e+04 -5.91381528e+04\n",
      " -5.88079491e+04 -5.86555790e+04  2.51390560e+03  3.68785285e+02\n",
      " -1.50325003e+04 -3.08106557e+03  2.95460598e+03  2.58699189e+03\n",
      " -6.51040399e+02 -2.16094699e+03  3.12345917e+02 -2.27249470e+02\n",
      " -5.80007349e+02 -1.13359494e+03  6.35216650e+01  1.61410517e+02\n",
      "  8.26169243e+02  4.51066421e+02]\n",
      "Mean squared error: 212407552.92\n",
      "Variance score: 0.01\n",
      "Accuracy: 2.66\n"
     ]
    }
   ],
   "source": [
    "print('Coefficients: \\n', regr.coef_)\n",
    "print(\"Mean squared error: %.2f\" % mean_squared_error(data_y_test, data_y_pred))\n",
    "print('Variance score: %.2f' % r2_score(data_y_test, data_y_pred))\n",
    "\n",
    "noice = 0\n",
    "for i in range(len(data_y_pred)):\n",
    "    if abs(data_y_test[i] - data_y_pred[i]) < 100:\n",
    "        noice += 1\n",
    "print('Accuracy: %.2f' % ((noice/len(data_y_pred))*100.0))"
   ]
  },
  {
   "cell_type": "code",
   "execution_count": 87,
   "metadata": {},
   "outputs": [
    {
     "data": {
      "text/plain": [
       "[<matplotlib.lines.Line2D at 0x7f09e5601860>]"
      ]
     },
     "execution_count": 87,
     "metadata": {},
     "output_type": "execute_result"
    },
    {
     "data": {
      "image/png": "[encoded data removed]",
      "text/plain": [
       "<matplotlib.figure.Figure at 0x7f09e5601898>"
      ]
     },
     "metadata": {},
     "output_type": "display_data"
    }
   ],
   "source": [
    "#plt.scatter(data_y_pred, data_y_pred, color='black')\n",
    "plt.plot(range(0,len(data_y_test)), data_y_test, color='blue', linewidth=1)\n",
    "plt.plot(range(0,len(data_y_pred)), data_y_pred, color='green', linewidth=1)"
   ]
  }
 ],
 "metadata": {
  "kernelspec": {
   "display_name": "Python 3",
   "language": "python",
   "name": "python3"
  },
  "language_info": {
   "codemirror_mode": {
    "name": "ipython",
    "version": 3
   },
   "file_extension": ".py",
   "mimetype": "text/x-python",
   "name": "python",
   "nbconvert_exporter": "python",
   "pygments_lexer": "ipython3",
   "version": "3.6.4"
  }
 },
 "nbformat": 4,
 "nbformat_minor": 2
}
